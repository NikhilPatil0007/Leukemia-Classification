{
  "metadata": {
    "kernelspec": {
      "language": "python",
      "display_name": "Python 3",
      "name": "python3"
    },
    "language_info": {
      "name": "python",
      "version": "3.10.12",
      "mimetype": "text/x-python",
      "codemirror_mode": {
        "name": "ipython",
        "version": 3
      },
      "pygments_lexer": "ipython3",
      "nbconvert_exporter": "python",
      "file_extension": ".py"
    },
    "kaggle": {
      "accelerator": "nvidiaTeslaT4",
      "dataSources": [
        {
          "sourceId": 1449674,
          "sourceType": "datasetVersion",
          "datasetId": 849724
        }
      ],
      "dockerImageVersionId": 30558,
      "isInternetEnabled": false,
      "language": "python",
      "sourceType": "notebook",
      "isGpuEnabled": true
    },
    "colab": {
      "provenance": []
    }
  },
  "nbformat_minor": 0,
  "nbformat": 4,
  "cells": [
    {
      "source": [
        "\n",
        "import kagglehub\n",
        "andrewmvd_leukemia_classification_path = kagglehub.dataset_download('andrewmvd/leukemia-classification')\n",
        "\n",
        "print('Data source import complete.')\n"
      ],
      "metadata": {
        "id": "h7VyMI4xJwLK"
      },
      "cell_type": "code",
      "outputs": [],
      "execution_count": null
    },
    {
      "cell_type": "code",
      "source": [],
      "metadata": {
        "execution": {
          "iopub.status.busy": "2024-12-10T23:37:30.268741Z",
          "iopub.execute_input": "2024-12-10T23:37:30.269114Z",
          "iopub.status.idle": "2024-12-10T23:37:30.305674Z",
          "shell.execute_reply.started": "2024-12-10T23:37:30.269082Z",
          "shell.execute_reply": "2024-12-10T23:37:30.304357Z"
        },
        "trusted": true,
        "id": "QHhzrPiAJwLK"
      },
      "outputs": [],
      "execution_count": null
    },
    {
      "cell_type": "code",
      "source": [
        "import os\n",
        "import numpy as np\n",
        "import pandas as pd\n",
        "import matplotlib.pyplot as plt\n",
        "import matplotlib.image as mpimg\n",
        "from sklearn.model_selection import train_test_split\n",
        "from sklearn import metrics\n",
        "from sklearn.metrics import confusion_matrix, classification_report\n",
        "\n",
        "import tensorflow as tf\n",
        "from tensorflow import keras\n",
        "from tensorflow.keras.models import Sequential\n",
        "from tensorflow.keras.optimizers import Adam, Adamax\n",
        "from tensorflow.keras.metrics import categorical_crossentropy\n",
        "from tensorflow.keras.preprocessing.image import ImageDataGenerator\n",
        "from tensorflow.keras.layers import Conv2D, MaxPooling2D, Flatten, Dense, Activation, Dropout, BatchNormalization\n",
        "from tensorflow.keras import regularizers\n",
        "\n",
        "# VGG16\n",
        "from keras.applications.vgg16 import VGG16\n",
        "\n",
        "from PIL import Image"
      ],
      "metadata": {
        "_uuid": "8f2839f25d086af736a60e9eeb907d3b93b6e0e5",
        "_cell_guid": "b1076dfc-b9ad-4769-8c92-a6c4dae69d19",
        "execution": {
          "iopub.status.busy": "2024-12-10T23:37:30.308007Z",
          "iopub.execute_input": "2024-12-10T23:37:30.308293Z",
          "iopub.status.idle": "2024-12-10T23:37:44.501258Z",
          "shell.execute_reply.started": "2024-12-10T23:37:30.308268Z",
          "shell.execute_reply": "2024-12-10T23:37:44.50008Z"
        },
        "trusted": true,
        "id": "l2uyiM4pJwLK"
      },
      "outputs": [],
      "execution_count": null
    },
    {
      "cell_type": "code",
      "source": [
        "\n",
        "def create_df(dataset):\n",
        "    image_paths, labels = [], []\n",
        "\n",
        "    for dirpath, dirnames, filenames in os.walk(dataset):\n",
        "        for filename in filenames:\n",
        "\n",
        "            image = os.path.join(dirpath, filename)\n",
        "            image_paths.append(image)\n",
        "            if dirpath[-3:] == 'all':\n",
        "                labels.append('all')\n",
        "            else:\n",
        "                labels.append('hem')\n",
        "\n",
        "    df = pd.DataFrame({'Image Path': image_paths,\n",
        "                           'Label': labels})\n",
        "\n",
        "    return df\n",
        "\n",
        "\n",
        "train_dir = \"/kaggle/input/leukemia-classification/C-NMC_Leukemia/training_data\"\n",
        "df =  create_df(train_dir)\n",
        "\n",
        "train_df, remaining_df = train_test_split(df, train_size=0.7, shuffle=True, random_state=31, stratify=df['Label'])\n",
        "valid_df, test_df= train_test_split(remaining_df, train_size=0.5, shuffle=True, random_state=31, stratify=remaining_df['Label'])\n",
        "\n",
        "print(\"Number of training samples: %d\" % len(train_df.index))\n",
        "print(\"Number of test samples: %d\" % len(test_df.index))\n",
        "print(\"Number of validation samples: %d\" % len(valid_df.index))"
      ],
      "metadata": {
        "execution": {
          "iopub.status.busy": "2024-12-10T23:37:44.503652Z",
          "iopub.execute_input": "2024-12-10T23:37:44.50427Z",
          "iopub.status.idle": "2024-12-10T23:38:11.001759Z",
          "shell.execute_reply.started": "2024-12-10T23:37:44.504238Z",
          "shell.execute_reply": "2024-12-10T23:38:11.000417Z"
        },
        "trusted": true,
        "id": "mLsCZPkYJwLL"
      },
      "outputs": [],
      "execution_count": null
    },
    {
      "cell_type": "code",
      "source": [
        "def show_history_plot(history):\n",
        "\n",
        "    training_accuracy = history['accuracy']\n",
        "    epochs = range(1, len(training_accuracy) + 1)\n",
        "\n",
        "\n",
        "    plt.figure(figsize=(15, 5))\n",
        "\n",
        "\n",
        "    plt.subplot(1, 2, 1)\n",
        "    plt.plot(epochs, history['accuracy'], 'b', label='Training accuracy', marker='o')\n",
        "    plt.plot(epochs, history['val_accuracy'], 'c', label='Validation accuracy', marker='o')\n",
        "    plt.title('Training and Validation Accuracy', fontsize=14)\n",
        "    plt.xlabel('Epochs', fontsize=12)\n",
        "    plt.ylabel('Accuracy', fontsize=12)\n",
        "    plt.legend()\n",
        "    plt.grid(True)\n",
        "\n",
        "    # Plotting training and validation loss\n",
        "    plt.subplot(1, 2, 2)  # 1 row, 2 columns, second plot\n",
        "    plt.plot(epochs, history['loss'], 'b', label='Training loss', marker='o')\n",
        "    plt.plot(epochs, history['val_loss'], 'c', label='Validation loss', marker='o')\n",
        "    plt.title('Training and Validation Loss', fontsize=14)\n",
        "    plt.xlabel('Epochs', fontsize=12)\n",
        "    plt.ylabel('Loss', fontsize=12)\n",
        "    plt.legend()\n",
        "    plt.grid(True)\n",
        "\n",
        "    # Improve layout and displaying the plot\n",
        "    plt.tight_layout()\n",
        "    plt.show()"
      ],
      "metadata": {
        "execution": {
          "iopub.status.busy": "2024-12-10T23:38:11.003189Z",
          "iopub.execute_input": "2024-12-10T23:38:11.003643Z",
          "iopub.status.idle": "2024-12-10T23:38:11.012934Z",
          "shell.execute_reply.started": "2024-12-10T23:38:11.003593Z",
          "shell.execute_reply": "2024-12-10T23:38:11.011564Z"
        },
        "trusted": true,
        "id": "WyZpjHMsJwLL"
      },
      "outputs": [],
      "execution_count": null
    },
    {
      "cell_type": "code",
      "source": [
        "def show_conf_matrix(model):\n",
        "    test_gen.reset()  # Reset the generator to be sure it's at the start of the dataset\n",
        "    y_pred = model.predict(test_gen, steps=test_gen.n // test_gen.batch_size+1, verbose=0)\n",
        "\n",
        "    label_dict = test_gen.class_indices\n",
        "    classes = list(label_dict.keys())\n",
        "\n",
        "    # Convert predictions to labels\n",
        "    pred_labels = np.argmax(y_pred, axis=1)\n",
        "    y_true = test_gen.classes\n",
        "\n",
        "    # Generate the confusion matrix\n",
        "    confusion_matrix = metrics.confusion_matrix(y_true, pred_labels)\n",
        "    cm_display = metrics.ConfusionMatrixDisplay(confusion_matrix=confusion_matrix, display_labels=[False, True])\n",
        "\n",
        "    # Plot the confusion matrix\n",
        "    cmap = plt.cm.Blues\n",
        "    cm_display.plot(cmap=cmap, colorbar=False)\n",
        "\n",
        "    plt.title('Confusion Matrix', fontsize=16)\n",
        "    plt.figure(figsize=(7, 7))\n",
        "    plt.show()"
      ],
      "metadata": {
        "execution": {
          "iopub.status.busy": "2024-12-10T23:38:11.015976Z",
          "iopub.execute_input": "2024-12-10T23:38:11.016374Z",
          "iopub.status.idle": "2024-12-10T23:38:11.042079Z",
          "shell.execute_reply.started": "2024-12-10T23:38:11.016313Z",
          "shell.execute_reply": "2024-12-10T23:38:11.040672Z"
        },
        "trusted": true,
        "id": "x6eU4sVTJwLM"
      },
      "outputs": [],
      "execution_count": null
    },
    {
      "cell_type": "code",
      "source": [
        "def evaluation_matrix(model):\n",
        "    test_steps = len(test_df) // batch_size\n",
        "    train_score = model.evaluate(train_gen, steps= test_steps, verbose= 0)\n",
        "    valid_score = model.evaluate(valid_gen, steps= test_steps, verbose= 0)\n",
        "    test_score = model.evaluate(test_gen, steps= test_steps, verbose= 0)\n",
        "\n",
        "    header = \"{:<12} {:<10} {:<10}\".format(\"\", \"Loss\", \"Accuracy\")\n",
        "    separator = '-' * len(header)\n",
        "    train_row = \"{:<12} {:<10.5f} {:<10.5f}\".format(\"Train\", train_score[0], train_score[1])  # Formats the float to five decimal places\n",
        "    valid_row = \"{:<12} {:<10.5f} {:<10.5f}\".format(\"Validation\", valid_score[0], valid_score[1])\n",
        "    test_row = \"{:<12} {:<10.5f} {:<10.5f}\".format(\"Test\", test_score[0], test_score[1])\n",
        "\n",
        "    table = '\\n'.join([header, separator, train_row, valid_row, test_row])\n",
        "    print(table)"
      ],
      "metadata": {
        "execution": {
          "iopub.status.busy": "2024-12-10T23:38:11.043612Z",
          "iopub.execute_input": "2024-12-10T23:38:11.043972Z",
          "iopub.status.idle": "2024-12-10T23:38:11.058027Z",
          "shell.execute_reply.started": "2024-12-10T23:38:11.043943Z",
          "shell.execute_reply": "2024-12-10T23:38:11.056681Z"
        },
        "trusted": true,
        "id": "p3AlGCBPJwLM"
      },
      "outputs": [],
      "execution_count": null
    },
    {
      "cell_type": "code",
      "source": [
        "hem_img = train_df[train_df['Label'] == 'hem'].sample(3)\n",
        "all_img = train_df[train_df['Label'] == 'all'].sample(3)\n",
        "sampled_df = pd.concat([hem_img, all_img])\n",
        "\n",
        "# Create a figure with subplots to show the images in\n",
        "fig, axes = plt.subplots(nrows=2, ncols=3, figsize=(12, 6))\n",
        "\n",
        "for i, row in enumerate(sampled_df.iterrows()):\n",
        "    img = mpimg.imread(row[1]['Image Path'])\n",
        "    ax = axes[i//3, i%3]\n",
        "    ax.imshow(img)\n",
        "    ax.axis('off')\n",
        "    if row[1]['Label'] == 'hem':\n",
        "        ax.set_title(f\"Label: hem\")\n",
        "    else:\n",
        "        ax.set_title(f\"Label: all\")\n",
        "\n",
        "plt.show()"
      ],
      "metadata": {
        "execution": {
          "iopub.status.busy": "2024-12-10T23:38:11.059183Z",
          "iopub.execute_input": "2024-12-10T23:38:11.059524Z",
          "iopub.status.idle": "2024-12-10T23:38:11.891793Z",
          "shell.execute_reply.started": "2024-12-10T23:38:11.059495Z",
          "shell.execute_reply": "2024-12-10T23:38:11.890587Z"
        },
        "trusted": true,
        "id": "2oitT94lJwLM"
      },
      "outputs": [],
      "execution_count": null
    },
    {
      "cell_type": "code",
      "source": [
        "batch_size = 40\n",
        "\n",
        "train_data_generator = ImageDataGenerator(horizontal_flip=True)\n",
        "valid_data_generator = ImageDataGenerator()\n",
        "\n",
        "train_gen = train_data_generator.flow_from_dataframe( train_df, x_col= 'Image Path', y_col= 'Label', target_size= (224, 224), class_mode= 'categorical',\n",
        "                                    color_mode= 'rgb', shuffle= True, batch_size= batch_size)\n",
        "\n",
        "valid_gen = valid_data_generator.flow_from_dataframe( valid_df, x_col= 'Image Path', y_col= 'Label', target_size= (224, 224), class_mode= 'categorical',\n",
        "                                    color_mode= 'rgb', shuffle= True, batch_size= batch_size)\n",
        "\n",
        "test_gen = valid_data_generator.flow_from_dataframe( test_df, x_col= 'Image Path', y_col= 'Label', target_size= (224, 224), class_mode= 'categorical',\n",
        "                                    color_mode= 'rgb', shuffle= False, batch_size= batch_size)\n",
        "\n",
        "train_steps = test_gen.n // test_gen.batch_size + 1\n",
        "validation_steps = valid_gen.n // valid_gen.batch_size"
      ],
      "metadata": {
        "execution": {
          "iopub.status.busy": "2024-12-10T23:38:11.893163Z",
          "iopub.execute_input": "2024-12-10T23:38:11.89353Z",
          "iopub.status.idle": "2024-12-10T23:38:19.151937Z",
          "shell.execute_reply.started": "2024-12-10T23:38:11.893499Z",
          "shell.execute_reply": "2024-12-10T23:38:19.150327Z"
        },
        "trusted": true,
        "id": "Dc3VXBOcJwLN"
      },
      "outputs": [],
      "execution_count": null
    },
    {
      "cell_type": "code",
      "source": [
        "# Instantiate base model\n",
        "img_shape=(224, 224, 3)\n",
        "VGG16_base_model = VGG16(weights=None, input_shape=img_shape, include_top=False, pooling=None)\n",
        "\n",
        "# Freeze base model to keep pre-trained weights\n",
        "VGG16_base_model.trainable = False\n",
        "\n",
        "# Add custom top layers for binary classification\n",
        "last_layer = VGG16_base_model.get_layer('block5_pool')\n",
        "last_output = last_layer.output\n",
        "x = keras.layers.GlobalMaxPooling2D()(last_output)\n",
        "x = keras.layers.Dropout(0.5)(x)\n",
        "x = keras.layers.Dense(2, activation='sigmoid')(x)\n",
        "\n",
        "# Create new model\n",
        "VGG16_model = tf.keras.Model(VGG16_base_model.input, x, name=\"VGG16_model\")\n",
        "\n",
        "VGG16_model.compile(Adamax(learning_rate= 0.001), loss= 'categorical_crossentropy', metrics= ['accuracy'])\n",
        "\n",
        "VGG16_model.summary()"
      ],
      "metadata": {
        "execution": {
          "iopub.status.busy": "2024-12-10T23:38:19.153581Z",
          "iopub.execute_input": "2024-12-10T23:38:19.153972Z",
          "iopub.status.idle": "2024-12-10T23:38:20.002105Z",
          "shell.execute_reply.started": "2024-12-10T23:38:19.153941Z",
          "shell.execute_reply": "2024-12-10T23:38:20.000417Z"
        },
        "trusted": true,
        "id": "XcYsqaPUJwLN"
      },
      "outputs": [],
      "execution_count": null
    },
    {
      "cell_type": "code",
      "source": [
        "epochs = 2\n",
        "\n",
        "history_VGG16 = VGG16_model.fit(\n",
        "    train_gen,\n",
        "    steps_per_epoch=train_steps,\n",
        "    validation_data=valid_gen,\n",
        "    validation_steps=validation_steps,\n",
        "    epochs=epochs,\n",
        "    batch_size=batch_size,\n",
        "    verbose=1\n",
        ")"
      ],
      "metadata": {
        "execution": {
          "iopub.status.busy": "2024-12-10T23:38:20.004056Z",
          "iopub.execute_input": "2024-12-10T23:38:20.004462Z",
          "iopub.status.idle": "2024-12-11T00:11:30.091732Z",
          "shell.execute_reply.started": "2024-12-10T23:38:20.00442Z",
          "shell.execute_reply": "2024-12-11T00:11:30.089715Z"
        },
        "trusted": true,
        "id": "q8Zww0iJJwLN"
      },
      "outputs": [],
      "execution_count": null
    },
    {
      "cell_type": "code",
      "source": [
        "show_history_plot(history_VGG16.history)"
      ],
      "metadata": {
        "trusted": true,
        "execution": {
          "iopub.status.busy": "2024-12-11T00:11:30.099327Z",
          "iopub.execute_input": "2024-12-11T00:11:30.099816Z",
          "iopub.status.idle": "2024-12-11T00:11:30.687717Z",
          "shell.execute_reply.started": "2024-12-11T00:11:30.099757Z",
          "shell.execute_reply": "2024-12-11T00:11:30.686423Z"
        },
        "id": "v67F-O8jJwLO"
      },
      "outputs": [],
      "execution_count": null
    },
    {
      "cell_type": "code",
      "source": [
        "evaluation_matrix(VGG16_model)"
      ],
      "metadata": {
        "trusted": true,
        "execution": {
          "iopub.status.busy": "2024-12-11T00:11:30.689172Z",
          "iopub.execute_input": "2024-12-11T00:11:30.689641Z",
          "iopub.status.idle": "2024-12-11T00:35:52.714596Z",
          "shell.execute_reply.started": "2024-12-11T00:11:30.689593Z",
          "shell.execute_reply": "2024-12-11T00:35:52.712821Z"
        },
        "id": "BuT7ml0UJwLO"
      },
      "outputs": [],
      "execution_count": null
    },
    {
      "cell_type": "code",
      "source": [
        "show_conf_matrix(VGG16_model)"
      ],
      "metadata": {
        "trusted": true,
        "execution": {
          "iopub.status.busy": "2024-12-11T00:35:52.716809Z",
          "iopub.execute_input": "2024-12-11T00:35:52.717187Z",
          "iopub.status.idle": "2024-12-11T00:44:03.95385Z",
          "shell.execute_reply.started": "2024-12-11T00:35:52.717154Z",
          "shell.execute_reply": "2024-12-11T00:44:03.952316Z"
        },
        "id": "3fOeNXlbJwLO"
      },
      "outputs": [],
      "execution_count": null
    },
    {
      "cell_type": "code",
      "source": [
        "from sklearn.metrics import classification_report, confusion_matrix, roc_auc_score, cohen_kappa_score, recall_score, precision_score, f1_score\n",
        "import numpy as np\n",
        "import seaborn as sns\n",
        "import matplotlib.pyplot as plt\n",
        "\n",
        "# Predict on the validation data\n",
        "y_pred_probs = VGG16_model.predict(test_gen, batch_size=32)  # Predicted probabilities\n",
        "#y_pred = (y_pred_probs > 0.5).astype(int).flatten()  # Convert probabilities to binary predictions\n",
        "y_pred = np.argmax(y_pred_probs, axis=1)\n",
        "y_true = test_gen.classes\n",
        "# Training Accuracy\n",
        "#train_loss, train_accuracy = VGG16_model.evaluate(train_datagen.flow(X_train, y_train, batch_size=32), verbose=1)\n",
        "\n",
        "# Validation Accuracy\n",
        "#val_loss, val_accuracy = VGG16_model.evaluate(valid_datagen.flow(X_val, y_val, batch_size=32), verbose=1)\n",
        "\n",
        "training_accuracy = history_VGG16.history['accuracy'][-1]  # Last epoch training accuracy\n",
        "validation_accuracy = history_VGG16.history['val_accuracy'][-1]\n",
        "\n",
        "# Test Accuracy\n",
        "test_accuracy = np.mean(y_pred == y_true)\n",
        "\n",
        "# Precision, Recall, F1 Score\n",
        "precision = precision_score(y_true, y_pred)\n",
        "recall = recall_score(y_true, y_pred)\n",
        "f1 = f1_score(y_true, y_pred)\n",
        "\n",
        "# Cohen's Kappa\n",
        "#kappa = cohen_kappa_score(y_true, y_pred)\n",
        "\n",
        "# Classification Report\n",
        "report = classification_report(y_true, y_pred, target_names=[\"Non_Diseased\", \"Diseased\"])\n",
        "print(\"Classification Report:\\n\", report)\n",
        "\n",
        "\n",
        "# Print Metrics\n",
        "print(f\"Training Accuracy: {training_accuracy:.4f}\")\n",
        "print(f\"Validation Accuracy: {validation_accuracy:.4f}\")\n",
        "print(f\"Test Accuracy: {test_accuracy:.4f}\")\n",
        "#print(f\"Cohen's Kappa: {kappa:.4f}\")\n"
      ],
      "metadata": {
        "trusted": true,
        "execution": {
          "iopub.status.busy": "2024-12-11T00:44:03.955753Z",
          "iopub.execute_input": "2024-12-11T00:44:03.956384Z",
          "iopub.status.idle": "2024-12-11T00:52:04.488104Z",
          "shell.execute_reply.started": "2024-12-11T00:44:03.956289Z",
          "shell.execute_reply": "2024-12-11T00:52:04.483767Z"
        },
        "id": "tR4uKAIvJwLO"
      },
      "outputs": [],
      "execution_count": null
    },
    {
      "cell_type": "code",
      "source": [
        "# Create Model Structure\n",
        "img_shape = (224, 224, 3)\n",
        "EN3_base_model = tf.keras.applications.efficientnet.EfficientNetB3(include_top= False, weights= None, input_shape= img_shape, pooling= 'max')\n",
        "\n",
        "EN3_model = Sequential([\n",
        "    EN3_base_model,\n",
        "    BatchNormalization(),\n",
        "    Dense(256, activation='relu'),\n",
        "    Dropout(0.45),\n",
        "    Dense(2, activation='softmax')\n",
        "])\n",
        "\n",
        "# Compile the model\n",
        "EN3_model.compile(Adamax(learning_rate= 0.001), loss= 'categorical_crossentropy', metrics= ['accuracy'])\n",
        "\n",
        "EN3_model.summary()"
      ],
      "metadata": {
        "trusted": true,
        "execution": {
          "iopub.status.busy": "2024-12-11T00:52:04.512121Z",
          "iopub.execute_input": "2024-12-11T00:52:04.513094Z",
          "iopub.status.idle": "2024-12-11T00:52:11.597214Z",
          "shell.execute_reply.started": "2024-12-11T00:52:04.512981Z",
          "shell.execute_reply": "2024-12-11T00:52:11.596082Z"
        },
        "id": "eIpPytJKJwLO"
      },
      "outputs": [],
      "execution_count": null
    },
    {
      "cell_type": "code",
      "source": [
        "epochs = 2\n",
        "\n",
        "history_EN3 = EN3_model.fit(x= train_gen, epochs= epochs, verbose= 1,\n",
        "                    validation_data= valid_gen, validation_steps= None, shuffle= False)"
      ],
      "metadata": {
        "trusted": true,
        "execution": {
          "iopub.status.busy": "2024-12-18T03:39:21.209481Z",
          "iopub.execute_input": "2024-12-18T03:39:21.210352Z",
          "iopub.status.idle": "2024-12-18T03:43:22.100776Z",
          "shell.execute_reply.started": "2024-12-18T03:39:21.210323Z",
          "shell.execute_reply": "2024-12-18T03:43:22.100055Z"
        },
        "id": "UTB6sAJ3JwLQ"
      },
      "outputs": [],
      "execution_count": null
    },
    {
      "cell_type": "code",
      "source": [
        "show_history_plot(history_EN3.history)"
      ],
      "metadata": {
        "trusted": true,
        "execution": {
          "iopub.status.busy": "2024-12-18T03:43:22.102529Z",
          "iopub.execute_input": "2024-12-18T03:43:22.102787Z",
          "iopub.status.idle": "2024-12-18T03:43:22.683744Z",
          "shell.execute_reply.started": "2024-12-18T03:43:22.102765Z",
          "shell.execute_reply": "2024-12-18T03:43:22.682943Z"
        },
        "id": "SxwVQ8YBJwLQ"
      },
      "outputs": [],
      "execution_count": null
    },
    {
      "cell_type": "code",
      "source": [
        "evaluation_matrix(EN3_model)"
      ],
      "metadata": {
        "trusted": true,
        "execution": {
          "iopub.status.busy": "2024-12-18T03:43:22.684945Z",
          "iopub.execute_input": "2024-12-18T03:43:22.685328Z",
          "iopub.status.idle": "2024-12-18T03:43:39.247946Z",
          "shell.execute_reply.started": "2024-12-18T03:43:22.685295Z",
          "shell.execute_reply": "2024-12-18T03:43:39.247071Z"
        },
        "id": "vHr7cLjkJwLQ"
      },
      "outputs": [],
      "execution_count": null
    },
    {
      "cell_type": "code",
      "source": [
        "show_conf_matrix(EN3_model)"
      ],
      "metadata": {
        "trusted": true,
        "execution": {
          "iopub.status.busy": "2024-12-18T03:43:39.250038Z",
          "iopub.execute_input": "2024-12-18T03:43:39.25032Z",
          "iopub.status.idle": "2024-12-18T03:43:44.831205Z",
          "shell.execute_reply.started": "2024-12-18T03:43:39.250296Z",
          "shell.execute_reply": "2024-12-18T03:43:44.830131Z"
        },
        "id": "pO1OjlnQJwLQ"
      },
      "outputs": [],
      "execution_count": null
    },
    {
      "cell_type": "code",
      "source": [
        "from sklearn.metrics import classification_report, confusion_matrix, roc_auc_score, cohen_kappa_score, recall_score, precision_score, f1_score\n",
        "import numpy as np\n",
        "import seaborn as sns\n",
        "import matplotlib.pyplot as plt\n",
        "\n",
        "# Predict on the validation data\n",
        "y_pred_probs = EN3_model.predict(test_gen, batch_size=32)  # Predicted probabilities\n",
        "#y_pred = (y_pred_probs > 0.5).astype(int).flatten()  # Convert probabilities to binary predictions\n",
        "y_pred = np.argmax(y_pred_probs, axis=1)\n",
        "y_true = test_gen.classes\n",
        "\n",
        "\n",
        "training_accuracy = history_EN3.history['accuracy'][-1]  # Last epoch training accuracy\n",
        "validation_accuracy = history_EN3.history['val_accuracy'][-1]\n",
        "\n",
        "# Test Accuracy\n",
        "test_accuracy = np.mean(y_pred == y_true)\n",
        "\n",
        "# Precision, Recall, F1 Score\n",
        "precision = precision_score(y_true, y_pred)\n",
        "recall = recall_score(y_true, y_pred)\n",
        "f1 = f1_score(y_true, y_pred)\n",
        "\n",
        "# Cohen's Kappa\n",
        "#kappa = cohen_kappa_score(y_true, y_pred)\n",
        "\n",
        "# Classification Report\n",
        "report = classification_report(y_true, y_pred, target_names=[\"Non_Diseased\", \"Diseased\"])\n",
        "print(\"Classification Report:\\n\", report)\n",
        "\n",
        "\n",
        "# Print Metrics\n",
        "print(f\"Training Accuracy: {training_accuracy:.4f}\")\n",
        "print(f\"Validation Accuracy: {validation_accuracy:.4f}\")\n",
        "print(f\"Test Accuracy: {test_accuracy:.4f}\")\n",
        "#print(f\"Cohen's Kappa: {kappa:.4f}\")\n"
      ],
      "metadata": {
        "trusted": true,
        "execution": {
          "iopub.status.busy": "2024-12-18T03:48:13.850682Z",
          "iopub.execute_input": "2024-12-18T03:48:13.851459Z",
          "iopub.status.idle": "2024-12-18T03:48:19.153026Z",
          "shell.execute_reply.started": "2024-12-18T03:48:13.851424Z",
          "shell.execute_reply": "2024-12-18T03:48:19.152072Z"
        },
        "id": "PE4jfMSSJwLR"
      },
      "outputs": [],
      "execution_count": null
    },
    {
      "cell_type": "code",
      "source": [],
      "metadata": {
        "trusted": true,
        "id": "cTcCUzrRJwLR"
      },
      "outputs": [],
      "execution_count": null
    }
  ]
}